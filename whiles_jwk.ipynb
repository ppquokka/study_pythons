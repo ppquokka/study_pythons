{
  "nbformat": 4,
  "nbformat_minor": 0,
  "metadata": {
    "colab": {
      "provenance": [],
      "authorship_tag": "ABX9TyPihG0MGQXFAJyj7kKuL9Uc",
      "include_colab_link": true
    },
    "kernelspec": {
      "name": "python3",
      "display_name": "Python 3"
    },
    "language_info": {
      "name": "python"
    }
  },
  "cells": [
    {
      "cell_type": "markdown",
      "metadata": {
        "id": "view-in-github",
        "colab_type": "text"
      },
      "source": [
        "<a href=\"https://colab.research.google.com/github/ppquokka/toy_pythons/blob/main/whiles_jwk.ipynb\" target=\"_parent\"><img src=\"https://colab.research.google.com/assets/colab-badge.svg\" alt=\"Open In Colab\"/></a>"
      ]
    },
    {
      "cell_type": "markdown",
      "source": [
        "first 가 변수"
      ],
      "metadata": {
        "id": "1TjrSV99X9-9"
      }
    },
    {
      "cell_type": "code",
      "execution_count": null,
      "metadata": {
        "id": "yvZOcCEXXwSf"
      },
      "outputs": [],
      "source": [
        "first = 1"
      ]
    },
    {
      "cell_type": "code",
      "source": [
        "while first < 4 :\n",
        "  print(first)\n",
        "  print('in whiling')\n",
        "print('End')"
      ],
      "metadata": {
        "colab": {
          "base_uri": "https://localhost:8080/"
        },
        "id": "6vtljrQ1YVYE",
        "outputId": "cf3ba0d6-352f-4c73-8acc-3ee5a1d60826"
      },
      "execution_count": null,
      "outputs": [
        {
          "output_type": "stream",
          "name": "stdout",
          "text": [
            "2\n",
            "in whiling\n",
            "3\n",
            "in whiling\n",
            "4\n",
            "in whiling\n",
            "End\n"
          ]
        }
      ]
    },
    {
      "cell_type": "markdown",
      "source": [
        "↑루핑 발생 "
      ],
      "metadata": {
        "id": "yZMRZImdix2g"
      }
    },
    {
      "cell_type": "code",
      "source": [
        "first = 1\n",
        "while first < 4 :\n",
        "  print(first)\n",
        "  print('in whiling')\n",
        "  first = first + 1  \n",
        "print('End')"
      ],
      "metadata": {
        "colab": {
          "base_uri": "https://localhost:8080/"
        },
        "id": "Nf0ChLaNiKVQ",
        "outputId": "02e21ae7-f96a-45c3-d2bf-a11d2f4aa8d1"
      },
      "execution_count": null,
      "outputs": [
        {
          "output_type": "stream",
          "name": "stdout",
          "text": [
            "1\n",
            "in whiling\n",
            "2\n",
            "in whiling\n",
            "3\n",
            "in whiling\n",
            "End\n"
          ]
        }
      ]
    },
    {
      "cell_type": "markdown",
      "source": [
        "2줄은 마름모\n",
        "\n",
        "while 묶음은 플로우차트에서 'print → 마름모 → 줄바꿈 → first=first+1"
      ],
      "metadata": {
        "id": "7ZMDtRSZjPCo"
      }
    },
    {
      "cell_type": "code",
      "source": [],
      "metadata": {
        "id": "BKareJRrjlOY"
      },
      "execution_count": null,
      "outputs": []
    }
  ]
}