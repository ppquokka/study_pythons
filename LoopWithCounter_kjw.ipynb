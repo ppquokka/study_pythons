{
  "nbformat": 4,
  "nbformat_minor": 0,
  "metadata": {
    "colab": {
      "provenance": [],
      "authorship_tag": "ABX9TyMgXhS9uoOQw1tzq9ODqnWv",
      "include_colab_link": true
    },
    "kernelspec": {
      "name": "python3",
      "display_name": "Python 3"
    },
    "language_info": {
      "name": "python"
    }
  },
  "cells": [
    {
      "cell_type": "markdown",
      "metadata": {
        "id": "view-in-github",
        "colab_type": "text"
      },
      "source": [
        "<a href=\"https://colab.research.google.com/github/ppquokka/toy_pythons/blob/main/LoopWithCounter_kjw.ipynb\" target=\"_parent\"><img src=\"https://colab.research.google.com/assets/colab-badge.svg\" alt=\"Open In Colab\"/></a>"
      ]
    },
    {
      "cell_type": "markdown",
      "source": [
        "플로우차트는 완성. 컴퓨터가 이해하는 형식으로 변환해야 함\n",
        "\n",
        "현재 플로우차트는 no일 때 루핑이 돌고있음.\n",
        "if문 사용하지 말고, while문 사용\n",
        "\n",
        "이제는 **Github가 완료의 기준**. \n"
      ],
      "metadata": {
        "id": "wCB3AX6yueTK"
      }
    },
    {
      "cell_type": "code",
      "execution_count": 3,
      "metadata": {
        "colab": {
          "base_uri": "https://localhost:8080/"
        },
        "id": "D0shLb96uWPs",
        "outputId": "4f87e757-3035-47e7-bb68-aa0f118ea305"
      },
      "outputs": [
        {
          "output_type": "stream",
          "name": "stdout",
          "text": [
            "1\n",
            "2\n",
            "3\n",
            "4\n",
            "End\n"
          ]
        }
      ],
      "source": [
        "count = 1\n",
        "while count< 5 :\n",
        "  print(count)\n",
        "  count = count + 1\n",
        "print('End')"
      ]
    }
  ]
}